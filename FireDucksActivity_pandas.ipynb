{
  "cells": [
    {
      "cell_type": "markdown",
      "metadata": {
        "id": "view-in-github",
        "colab_type": "text"
      },
      "source": [
        "<a href=\"https://colab.research.google.com/github/maggi1129/FireDucks_Meetup_Activity/blob/main/FireDucksActivity_pandas.ipynb\" target=\"_parent\"><img src=\"https://colab.research.google.com/assets/colab-badge.svg\" alt=\"Open In Colab\"/></a>"
      ]
    },
    {
      "cell_type": "code",
      "execution_count": 1,
      "metadata": {
        "id": "BKdGiiZ2EN-o"
      },
      "outputs": [],
      "source": [
        "# !pip install fireducks"
      ]
    },
    {
      "cell_type": "code",
      "execution_count": 2,
      "metadata": {
        "id": "O2KIjJetEKrp"
      },
      "outputs": [],
      "source": [
        "import time\n",
        "import pandas as pd"
      ]
    },
    {
      "cell_type": "code",
      "execution_count": 3,
      "metadata": {
        "colab": {
          "base_uri": "https://localhost:8080/"
        },
        "id": "T4mjOF3mFC7b",
        "outputId": "541dcf46-58d5-49b6-cd10-0d99637f21c9"
      },
      "outputs": [
        {
          "output_type": "stream",
          "name": "stdout",
          "text": [
            "evaluation with pandas\n"
          ]
        }
      ],
      "source": [
        "print(f\"evaluation with {pd.__name__}\")"
      ]
    },
    {
      "cell_type": "markdown",
      "metadata": {
        "id": "gNIYWM0xEbMR"
      },
      "source": [
        "## Let's load the parquet dataset"
      ]
    },
    {
      "cell_type": "code",
      "execution_count": 4,
      "metadata": {
        "id": "6nzYlYVVENGK"
      },
      "outputs": [],
      "source": [
        "# Data can be downloaded from here:\n",
        "!wget -q https://data.rapids.ai/datasets/nyc_parking/nyc_parking_violations_2022.parquet"
      ]
    },
    {
      "cell_type": "code",
      "execution_count": 5,
      "metadata": {
        "id": "h4k9C0to0gUw"
      },
      "outputs": [],
      "source": [
        "import time\n",
        "stime = time.time()"
      ]
    },
    {
      "cell_type": "code",
      "execution_count": 6,
      "metadata": {
        "colab": {
          "base_uri": "https://localhost:8080/"
        },
        "id": "Y_d5fwWPES1g",
        "outputId": "4aef5663-a1a0-4bf2-ce89-c02852506c81"
      },
      "outputs": [
        {
          "output_type": "stream",
          "name": "stdout",
          "text": [
            "CPU times: user 40.9 s, sys: 21.2 s, total: 1min 2s\n",
            "Wall time: 49.4 s\n"
          ]
        },
        {
          "output_type": "execute_result",
          "data": {
            "text/plain": [
              "(15435607, 43)"
            ]
          },
          "metadata": {},
          "execution_count": 6
        }
      ],
      "source": [
        "%%time\n",
        "df = pd.read_parquet(\"nyc_parking_violations_2022.parquet\")\n",
        "df.shape"
      ]
    },
    {
      "cell_type": "code",
      "execution_count": null,
      "metadata": {
        "id": "J2-hbJ3f0gUw"
      },
      "outputs": [],
      "source": [
        "df['Violation Time'].value_counts()"
      ]
    },
    {
      "cell_type": "markdown",
      "metadata": {
        "id": "cQn2K8Kk0gUx"
      },
      "source": [
        "### 👉 As you can see there are some invalid entries (1247, 3857P etc.) in the \"Violation Time\" column, let's try to find the answer to the following queries in pandas!!"
      ]
    },
    {
      "cell_type": "markdown",
      "metadata": {
        "id": "UvS7Oit00gUx"
      },
      "source": [
        "## Q1. How many entries for 'Violation Time' starts with four digits and ends with either A or P?"
      ]
    },
    {
      "cell_type": "code",
      "execution_count": null,
      "metadata": {
        "id": "0EjBdG1Z0gUx"
      },
      "outputs": [],
      "source": [
        "# Write your query here. Extra credit for optimized query.\n"
      ]
    },
    {
      "cell_type": "markdown",
      "metadata": {
        "id": "Np6CCm_K0gUx"
      },
      "source": [
        "## Q2. How many violation entries takes place during AM time? (Hint: time ends with \"A\" indicates AM time)"
      ]
    },
    {
      "cell_type": "code",
      "execution_count": null,
      "metadata": {
        "id": "duEpC9ni0gUx"
      },
      "outputs": [],
      "source": [
        "# Write your query here. Extra credit for optimized query.\n"
      ]
    },
    {
      "cell_type": "markdown",
      "metadata": {
        "id": "EGynqZIX0gUx"
      },
      "source": [
        "## Q3. How many invalid AM entries are there? E.g., 1365A is invalid. (Note both 00:00 AM and 12:00 AM represent midnight)"
      ]
    },
    {
      "cell_type": "code",
      "execution_count": null,
      "metadata": {
        "id": "EVou86Xt0gUx"
      },
      "outputs": [],
      "source": [
        "# Write your query here. Extra credit for optimized query.\n"
      ]
    },
    {
      "cell_type": "markdown",
      "metadata": {
        "id": "7HeRUjKm0gUx"
      },
      "source": [
        "## Q4. How many violation entries takes place during PM time? (Hint: time ends with \"P\" indicates PM time)"
      ]
    },
    {
      "cell_type": "code",
      "execution_count": null,
      "metadata": {
        "id": "STLLQDQ40gUy"
      },
      "outputs": [],
      "source": [
        "# Write your query here. Extra credit for optimized query.\n"
      ]
    },
    {
      "cell_type": "markdown",
      "metadata": {
        "id": "YalXfXYf0gUy"
      },
      "source": [
        "## Q5. How many invalid PM entries are there? E.g., 2565P is invalid. (Note 00:00 PM is also not a valid time)"
      ]
    },
    {
      "cell_type": "code",
      "execution_count": null,
      "metadata": {
        "id": "x7ZkYu-f0gUy"
      },
      "outputs": [],
      "source": [
        "# Write your query here. Extra credit for optimized query.\n"
      ]
    },
    {
      "cell_type": "code",
      "execution_count": null,
      "metadata": {
        "id": "dkCFz7NF0gUy"
      },
      "outputs": [],
      "source": [
        "etime = time.time()\n",
        "print(f\"[{pd.__name__} total time: {etime - stime} sec\")"
      ]
    },
    {
      "cell_type": "markdown",
      "metadata": {
        "id": "oUsvYYYQ0gUy"
      },
      "source": [
        "### 👉 Now install FireDucks, enable the `%load_ext` line-magic and re-execute your queries."
      ]
    }
  ],
  "metadata": {
    "colab": {
      "provenance": [],
      "include_colab_link": true
    },
    "kernelspec": {
      "display_name": "Python 3 (ipykernel)",
      "language": "python",
      "name": "python3"
    },
    "language_info": {
      "codemirror_mode": {
        "name": "ipython",
        "version": 3
      },
      "file_extension": ".py",
      "mimetype": "text/x-python",
      "name": "python",
      "nbconvert_exporter": "python",
      "pygments_lexer": "ipython3",
      "version": "3.10.12"
    }
  },
  "nbformat": 4,
  "nbformat_minor": 0
}