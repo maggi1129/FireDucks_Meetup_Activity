{
  "cells": [
    {
      "cell_type": "markdown",
      "metadata": {
        "id": "view-in-github",
        "colab_type": "text"
      },
      "source": [
        "<a href=\"https://colab.research.google.com/github/maggi1129/FireDucks_Meetup_Activity/blob/main/FireDucksActivity_withFireDucks.ipynb\" target=\"_parent\"><img src=\"https://colab.research.google.com/assets/colab-badge.svg\" alt=\"Open In Colab\"/></a>"
      ]
    },
    {
      "cell_type": "code",
      "execution_count": 14,
      "metadata": {
        "id": "BKdGiiZ2EN-o",
        "colab": {
          "base_uri": "https://localhost:8080/"
        },
        "outputId": "9425e352-3174-442c-d4b7-579265129266"
      },
      "outputs": [
        {
          "output_type": "stream",
          "name": "stdout",
          "text": [
            "Requirement already satisfied: fireducks in /usr/local/lib/python3.11/dist-packages (1.2.6)\n",
            "Requirement already satisfied: firefw==1.2.6 in /usr/local/lib/python3.11/dist-packages (from fireducks) (1.2.6)\n",
            "Requirement already satisfied: pandas<2.3.0,>=1.5.3 in /usr/local/lib/python3.11/dist-packages (from fireducks) (2.2.2)\n",
            "Requirement already satisfied: pyarrow<19.1,>=19.0 in /usr/local/lib/python3.11/dist-packages (from fireducks) (19.0.1)\n",
            "Requirement already satisfied: numpy>=1.23.2 in /usr/local/lib/python3.11/dist-packages (from pandas<2.3.0,>=1.5.3->fireducks) (2.0.2)\n",
            "Requirement already satisfied: python-dateutil>=2.8.2 in /usr/local/lib/python3.11/dist-packages (from pandas<2.3.0,>=1.5.3->fireducks) (2.8.2)\n",
            "Requirement already satisfied: pytz>=2020.1 in /usr/local/lib/python3.11/dist-packages (from pandas<2.3.0,>=1.5.3->fireducks) (2025.2)\n",
            "Requirement already satisfied: tzdata>=2022.7 in /usr/local/lib/python3.11/dist-packages (from pandas<2.3.0,>=1.5.3->fireducks) (2025.2)\n",
            "Requirement already satisfied: six>=1.5 in /usr/local/lib/python3.11/dist-packages (from python-dateutil>=2.8.2->pandas<2.3.0,>=1.5.3->fireducks) (1.17.0)\n"
          ]
        }
      ],
      "source": [
        "!pip install fireducks"
      ]
    },
    {
      "cell_type": "code",
      "execution_count": 2,
      "metadata": {
        "id": "O2KIjJetEKrp"
      },
      "outputs": [],
      "source": [
        "import time\n",
        "import fireducks.pandas as pd"
      ]
    },
    {
      "cell_type": "code",
      "execution_count": 3,
      "metadata": {
        "colab": {
          "base_uri": "https://localhost:8080/"
        },
        "id": "T4mjOF3mFC7b",
        "outputId": "e7dc02d4-16ca-4191-f61e-dd3433fc96aa"
      },
      "outputs": [
        {
          "output_type": "stream",
          "name": "stdout",
          "text": [
            "evaluation with fireducks.pandas\n"
          ]
        }
      ],
      "source": [
        "print(f\"evaluation with {pd.__name__}\")"
      ]
    },
    {
      "cell_type": "markdown",
      "metadata": {
        "id": "gNIYWM0xEbMR"
      },
      "source": [
        "## Let's load the parquet dataset"
      ]
    },
    {
      "cell_type": "code",
      "execution_count": 4,
      "metadata": {
        "id": "6nzYlYVVENGK"
      },
      "outputs": [],
      "source": [
        "# Data can be downloaded from here:\n",
        "!wget -q https://data.rapids.ai/datasets/nyc_parking/nyc_parking_violations_2022.parquet"
      ]
    },
    {
      "cell_type": "code",
      "execution_count": 5,
      "metadata": {
        "id": "h4k9C0to0gUw"
      },
      "outputs": [],
      "source": [
        "import time\n",
        "stime = time.time()"
      ]
    },
    {
      "cell_type": "code",
      "execution_count": 6,
      "metadata": {
        "id": "Y_d5fwWPES1g",
        "colab": {
          "base_uri": "https://localhost:8080/"
        },
        "outputId": "fcacbfb2-a4be-4236-ac86-2c6e8882e1b5"
      },
      "outputs": [
        {
          "output_type": "stream",
          "name": "stdout",
          "text": [
            "CPU times: user 20.6 s, sys: 11.2 s, total: 31.8 s\n",
            "Wall time: 20 s\n"
          ]
        },
        {
          "output_type": "execute_result",
          "data": {
            "text/plain": [
              "(15435607, 43)"
            ]
          },
          "metadata": {},
          "execution_count": 6
        }
      ],
      "source": [
        "%%time\n",
        "df = pd.read_parquet(\"nyc_parking_violations_2022.parquet\")\n",
        "df.shape"
      ]
    },
    {
      "cell_type": "code",
      "execution_count": 7,
      "metadata": {
        "id": "J2-hbJ3f0gUw",
        "colab": {
          "base_uri": "https://localhost:8080/"
        },
        "outputId": "ff77ff75-6091-46b8-c3f7-8e18552fbc49"
      },
      "outputs": [
        {
          "output_type": "execute_result",
          "data": {
            "text/plain": [
              "Violation Time\n",
              "0836A    32927\n",
              "0839A    30635\n",
              "0838A    30539\n",
              "0840A    30448\n",
              "0806A    30236\n",
              "         ...  \n",
              "2853P        1\n",
              "7643P        1\n",
              "5850P        1\n",
              "0815         1\n",
              "5418P        1\n",
              "Name: count, Length: 1659, dtype: int64"
            ]
          },
          "metadata": {},
          "execution_count": 7
        }
      ],
      "source": [
        "df['Violation Time'].value_counts()"
      ]
    },
    {
      "cell_type": "markdown",
      "metadata": {
        "id": "cQn2K8Kk0gUx"
      },
      "source": [
        "### 👉 As you can see there are some invalid entries (1247, 3857P etc.) in the \"Violation Time\" column, let's try to find the answer to the following queries in pandas!!"
      ]
    },
    {
      "cell_type": "markdown",
      "metadata": {
        "id": "UvS7Oit00gUx"
      },
      "source": [
        "## Q1. How many entries for 'Violation Time' starts with four digits and ends with either A or P?"
      ]
    },
    {
      "cell_type": "code",
      "execution_count": null,
      "metadata": {
        "id": "0EjBdG1Z0gUx"
      },
      "outputs": [],
      "source": [
        "# Write your query here. Extra credit for optimized query.\n"
      ]
    },
    {
      "cell_type": "markdown",
      "metadata": {
        "id": "Np6CCm_K0gUx"
      },
      "source": [
        "## Q2. How many violation entries takes place during AM time? (Hint: time ends with \"A\" indicates AM time)"
      ]
    },
    {
      "cell_type": "code",
      "execution_count": null,
      "metadata": {
        "id": "duEpC9ni0gUx"
      },
      "outputs": [],
      "source": [
        "# Write your query here. Extra credit for optimized query.\n"
      ]
    },
    {
      "cell_type": "markdown",
      "metadata": {
        "id": "EGynqZIX0gUx"
      },
      "source": [
        "## Q3. How many invalid AM entries are there? E.g., 1365A is invalid. (Note both 00:00 AM and 12:00 AM represent midnight)"
      ]
    },
    {
      "cell_type": "code",
      "execution_count": null,
      "metadata": {
        "id": "EVou86Xt0gUx"
      },
      "outputs": [],
      "source": [
        "# Write your query here. Extra credit for optimized query.\n"
      ]
    },
    {
      "cell_type": "markdown",
      "metadata": {
        "id": "7HeRUjKm0gUx"
      },
      "source": [
        "## Q4. How many violation entries takes place during PM time? (Hint: time ends with \"P\" indicates PM time)"
      ]
    },
    {
      "cell_type": "code",
      "execution_count": null,
      "metadata": {
        "id": "STLLQDQ40gUy"
      },
      "outputs": [],
      "source": [
        "# Write your query here. Extra credit for optimized query.\n"
      ]
    },
    {
      "cell_type": "markdown",
      "metadata": {
        "id": "YalXfXYf0gUy"
      },
      "source": [
        "## Q5. How many invalid PM entries are there? E.g., 2565P is invalid. (Note 00:00 PM is also not a valid time)"
      ]
    },
    {
      "cell_type": "code",
      "execution_count": null,
      "metadata": {
        "id": "x7ZkYu-f0gUy"
      },
      "outputs": [],
      "source": [
        "# Write your query here. Extra credit for optimized query.\n"
      ]
    },
    {
      "cell_type": "code",
      "execution_count": 8,
      "metadata": {
        "id": "dkCFz7NF0gUy",
        "colab": {
          "base_uri": "https://localhost:8080/"
        },
        "outputId": "891d9fb2-5cd4-4125-c2c9-efa4de567a38"
      },
      "outputs": [
        {
          "output_type": "stream",
          "name": "stdout",
          "text": [
            "[fireducks.pandas total time: 34.657302141189575 sec\n"
          ]
        }
      ],
      "source": [
        "etime = time.time()\n",
        "print(f\"[{pd.__name__} total time: {etime - stime} sec\")"
      ]
    },
    {
      "cell_type": "markdown",
      "metadata": {
        "id": "oUsvYYYQ0gUy"
      },
      "source": [
        "### 👉 Now install FireDucks, enable the `%load_ext` line-magic and re-execute your queries."
      ]
    }
  ],
  "metadata": {
    "colab": {
      "provenance": [],
      "include_colab_link": true
    },
    "kernelspec": {
      "display_name": "Python 3 (ipykernel)",
      "language": "python",
      "name": "python3"
    },
    "language_info": {
      "codemirror_mode": {
        "name": "ipython",
        "version": 3
      },
      "file_extension": ".py",
      "mimetype": "text/x-python",
      "name": "python",
      "nbconvert_exporter": "python",
      "pygments_lexer": "ipython3",
      "version": "3.10.12"
    }
  },
  "nbformat": 4,
  "nbformat_minor": 0
}